{
  "cells": [
    {
      "cell_type": "code",
      "execution_count": 1,
      "id": "599a113d",
      "metadata": {
        "id": "599a113d"
      },
      "outputs": [],
      "source": [
        "import cv2\n",
        "import numpy as np\n",
        "import matplotlib.pyplot as plt"
      ]
    },
    {
      "cell_type": "markdown",
      "id": "7707f22a",
      "metadata": {
        "id": "7707f22a"
      },
      "source": [
        "## Q4"
      ]
    },
    {
      "cell_type": "code",
      "execution_count": 3,
      "id": "766f9df2",
      "metadata": {
        "colab": {
          "base_uri": "https://localhost:8080/",
          "height": 214
        },
        "id": "766f9df2",
        "outputId": "f2787bab-04b0-4a12-ee01-d0f06c6f4058"
      },
      "outputs": [
        {
          "output_type": "display_data",
          "data": {
            "text/plain": [
              "<Figure size 432x288 with 1 Axes>"
            ],
            "image/png": "[encoded data removed]"
          },
          "metadata": {
            "needs_background": "light"
          }
        }
      ],
      "source": [
        "# Do not change this cell\n",
        "I = cv2.imread('shapes.jpg')    # Reading image\n",
        "img = cv2.cvtColor(I,cv2.COLOR_BGR2GRAY)    # Converting image to grayscale\n",
        "_,img = cv2.threshold(img,127,255,cv2.THRESH_BINARY)    # Spiliting values between 0 and 1\n",
        "plt.imshow(img,cmap='gray')    # Displaying image\n",
        "plt.show()"
      ]
    },
    {
      "cell_type": "code",
      "execution_count": 8,
      "id": "ee6448c7",
      "metadata": {
        "id": "ee6448c7"
      },
      "outputs": [],
      "source": [
        "def solidity(contour):\n",
        "    '''\n",
        "    You should implement one of the descriptors in this method (compactness, ...)\n",
        "    You can change name of this method.\n",
        "    You can copy this cell and implement another descriptor in next cell.\n",
        "    You can create as many descriptor as you want.\n",
        "    For more information, refer to https://docs.opencv.org/4.x/d1/d32/tutorial_py_contour_properties.html\n",
        "    input(s):\n",
        "    contour (ndarray): contour of the shape\n",
        "    output(s):\n",
        "    output (float): computed feature value by applying the descriptor on the contour\n",
        "    '''\n",
        "    area = cv2.contourArea(contour)\n",
        "    hull = cv2.convexHull(contour)\n",
        "    hull_area = cv2.contourArea(hull)\n",
        "    solidity = float(area)/hull_area\n",
        "    return solidity\n",
        "\n",
        "def compactness(contour):\n",
        "    area = cv2.contourArea(contour)\n",
        "    perimeter = cv2.arcLength(contour,True)\n",
        "    compactness = np.pi*4*float(area)/(perimeter**2)\n",
        "    return compactness"
      ]
    },
    {
      "cell_type": "code",
      "execution_count": 24,
      "id": "190c1682",
      "metadata": {
        "id": "190c1682"
      },
      "outputs": [],
      "source": [
        "def distance_criteria(x,y):\n",
        "    \"\"\"\n",
        "    You should implement your distance criteria here.\n",
        "    This method is used for comparing features of shapes.\n",
        "    input(s):\n",
        "    x (ndarray): feature vector of first shape with the shape of (n,). (n is number of features) \n",
        "    y (ndarray): feature vector of second shape with the shape of (n,). (n is number of features)\n",
        "    output(s):\n",
        "    output (float): Distance between features of two shapes\n",
        "    \"\"\"\n",
        "    output = np.linalg.norm(x-y)\n",
        "    return output"
      ]
    },
    {
      "cell_type": "code",
      "execution_count": 7,
      "id": "7c6f1da0",
      "metadata": {
        "id": "7c6f1da0"
      },
      "outputs": [],
      "source": [
        "contours, _ = cv2.findContours(img,cv2.RETR_TREE,cv2.CHAIN_APPROX_SIMPLE)    # calculating contours"
      ]
    },
    {
      "cell_type": "code",
      "execution_count": 29,
      "id": "efc52a01",
      "metadata": {
        "id": "efc52a01"
      },
      "outputs": [],
      "source": [
        "# In this cell, you should use contours that we calculated in the previous cell and \n",
        "# your defined descriptors to extract features for each shape.\n",
        "# These features should be a numpy array with the shape of (m,n), where m is the number of shapes and n is the number of features.\n",
        "features = np.zeros((len(contours),2))\n",
        "for i,contour in enumerate(contours):\n",
        "  features[i,0] = solidity(contour)\n",
        "  features[i,1] = compactness(contour)"
      ]
    },
    {
      "cell_type": "code",
      "execution_count": 25,
      "id": "84b79e6c",
      "metadata": {
        "id": "84b79e6c"
      },
      "outputs": [],
      "source": [
        "def grouping(features, threshold):\n",
        "    \"\"\"\n",
        "    split feature between multiple groups based on their distance from each other.\n",
        "    input(s):\n",
        "    features (ndarray): a numpy array with the shape of (m,n), where m is the number of shapes and n is the number of features\n",
        "    threshold (float): maximum distance between two feature vector which determine wether they should be in the same group or not.\n",
        "    output(s):\n",
        "    output (list): group of each shape. For example, [[1,2],[3,4,5]] means 1 and 2 are in the same group and 3 and 4 and 5 are in another group.\n",
        "    \"\"\"\n",
        "    groups = list()\n",
        "    groups.append([features[0],[0]])\n",
        "    for i, feature in enumerate(features[1:]):\n",
        "        new_group_flag = True\n",
        "        for group in groups:\n",
        "            if distance_criteria(group[0], feature) < threshold:\n",
        "                group[1].append(i+1) \n",
        "                new_group_flag = False\n",
        "                break\n",
        "        if new_group_flag:\n",
        "            groups.append([feature,[i+1]])\n",
        "    return [[idx for idx in group[1]] for group in groups]"
      ]
    },
    {
      "cell_type": "code",
      "execution_count": 26,
      "id": "3d516f40",
      "metadata": {
        "id": "3d516f40"
      },
      "outputs": [],
      "source": [
        "def painting(groups, contours, colors):\n",
        "    \"\"\"\n",
        "    paint shapes base on their groups.\n",
        "    input(s):\n",
        "    groups (list): group of each shape. The format is as same as the output of grouping method.\n",
        "    contour (ndarray): contour of the shape\n",
        "    colors (list): color of each group\n",
        "    \"\"\"\n",
        "    result = I.copy()\n",
        "    for group, color in zip(groups,colors):\n",
        "        for idx in group:\n",
        "            plt.imshow(cv2.drawContours(result,contours,idx,color,4))\n",
        "    plt.show()"
      ]
    },
    {
      "cell_type": "code",
      "execution_count": 28,
      "id": "710da472",
      "metadata": {
        "colab": {
          "base_uri": "https://localhost:8080/",
          "height": 214
        },
        "id": "710da472",
        "outputId": "dc71b71b-47c7-4c7f-a006-ac89838897a6"
      },
      "outputs": [
        {
          "output_type": "display_data",
          "data": {
            "text/plain": [
              "<Figure size 432x288 with 1 Axes>"
            ],
            "image/png": "[encoded data removed]"
          },
          "metadata": {
            "needs_background": "light"
          }
        }
      ],
      "source": [
        "# You should replace your features array with None\n",
        "colors = [(255,0,0),(0,255,0),(0,0,255),(255,255,0),(255,0,255)]\n",
        "groups = grouping(features,0.08)\n",
        "painting(groups, contours, colors)"
      ]
    },
    {
      "cell_type": "code",
      "execution_count": null,
      "id": "0e83a3c1",
      "metadata": {
        "id": "0e83a3c1"
      },
      "outputs": [],
      "source": []
    }
  ],
  "metadata": {
    "kernelspec": {
      "display_name": "Python 3 (ipykernel)",
      "language": "python",
      "name": "python3"
    },
    "language_info": {
      "codemirror_mode": {
        "name": "ipython",
        "version": 3
      },
      "file_extension": ".py",
      "mimetype": "text/x-python",
      "name": "python",
      "nbconvert_exporter": "python",
      "pygments_lexer": "ipython3",
      "version": "3.10.5"
    },
    "colab": {
      "provenance": []
    }
  },
  "nbformat": 4,
  "nbformat_minor": 5
}