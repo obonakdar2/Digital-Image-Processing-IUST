{
  "cells": [
    {
      "cell_type": "markdown",
      "metadata": {
        "id": "lvzX5KsfsOj3"
      },
      "source": [
        "complete the code wherever we used #----start       #----end"
      ]
    },
    {
      "cell_type": "code",
      "execution_count": 1,
      "metadata": {
        "id": "5TH5KqhDg3iR"
      },
      "outputs": [],
      "source": [
        "import numpy as np\n",
        "import cv2 as cv\n",
        "import matplotlib.pyplot as plt\n",
        "import scipy.fftpack as fftpack\n",
        "import scipy\n",
        "import skimage.metrics"
      ]
    },
    {
      "cell_type": "markdown",
      "metadata": {
        "id": "Ow7sHY9Eg3iU"
      },
      "source": [
        "Part A"
      ]
    },
    {
      "cell_type": "code",
      "execution_count": 2,
      "metadata": {
        "colab": {
          "base_uri": "https://localhost:8080/"
        },
        "id": "sLE9lGEDg3iV",
        "outputId": "a9e90e03-efca-47c5-dc23-f2f8a78ddb7f"
      },
      "outputs": [
        {
          "output_type": "execute_result",
          "data": {
            "text/plain": [
              "(8, 8)"
            ]
          },
          "metadata": {},
          "execution_count": 2
        }
      ],
      "source": [
        "# here we got an image with size of 8*8 #\n",
        "image =np.array([[ 33.90241005,  30.54775832,  27.97959216,  29.41620856,\n",
        "         33.24129806,  35.02424581,  32.94586615,  29.93754577],\n",
        "       [ 34.69138758,  42.05585559,  50.00845073,  52.39975944,\n",
        "         49.87770263,  47.92905119,  49.74401583,  52.76852369],\n",
        "       [ 31.77462629,  49.6598556 ,  69.28626278,  75.85118649,\n",
        "         70.55222279,  66.14976936,  70.26596303,  77.1838152 ],\n",
        "       [ 28.6068495 ,  47.44677111,  71.24679329,  85.75392986,\n",
        "         88.52192546,  87.37539338,  89.03778505,  92.22403802],\n",
        "       [ 32.34196256,  44.83473787,  65.85785317,  88.43194903,\n",
        "        105.17498572, 112.09541293, 110.98089772, 107.82000439],\n",
        "       [ 38.13783369,  46.89900981,  65.4683231 ,  91.29834031,\n",
        "        116.1083363 , 130.97097637, 134.03007616, 131.82387514],\n",
        "       [ 35.16966279,  47.82418321,  68.69472555,  92.07094076,\n",
        "        114.10402987, 133.14028493, 147.87319677, 156.18775704],\n",
        "       [ 26.92228824,  45.6096369 ,  70.37352354,  90.01813956,\n",
        "        105.70408236, 125.69502973, 150.94870287, 169.98238288]])\n",
        "image.shape"
      ]
    },
    {
      "cell_type": "code",
      "execution_count": 3,
      "metadata": {
        "id": "n_ezRS_ag3iW"
      },
      "outputs": [],
      "source": [
        "# Matrix Quantization #\n",
        "Z = np.array([[16,11,10,16,24,40,51,61],\n",
        "              [12,12,14,19,26,58,60,55],\n",
        "              [14,13,16,24,40,57,69,56],\n",
        "              [14,17,22,29,51,87,80,62],\n",
        "              [18,22,37,56,68,109,103,77],\n",
        "              [24,35,55,64,81,104,113,92],\n",
        "              [49,64,78,87,103,121,120,101],\n",
        "              [72,92,95,98,112,100,130,99]])"
      ]
    },
    {
      "cell_type": "code",
      "execution_count": 4,
      "metadata": {
        "id": "HeJBCYmsg3iX"
      },
      "outputs": [],
      "source": [
        "# zigzag for generating vector from matrix and vice versa #\n",
        "zigzag = [   \n",
        "      [0, 1, 5, 6, 14, 15, 27, 28],\n",
        "      [2, 4, 7, 13, 16, 26, 29, 42],\n",
        "      [3, 8, 12, 17, 25, 30, 41, 43],\n",
        "      [9, 11, 18, 24, 31, 40, 44, 53],\n",
        "      [10, 19, 23, 32, 39, 45, 52, 54],\n",
        "      [20, 22, 33, 38, 46, 51, 55, 60],\n",
        "      [21, 34, 37, 47, 50, 56, 59, 61],\n",
        "      [35, 36, 48, 49, 57, 58, 62, 63],\n",
        "  ]"
      ]
    },
    {
      "cell_type": "code",
      "execution_count": 5,
      "metadata": {
        "id": "CZImM3bsg3iX",
        "colab": {
          "base_uri": "https://localhost:8080/",
          "height": 283
        },
        "outputId": "1bb87fbf-11cf-4f19-b710-c61ef251469d"
      },
      "outputs": [
        {
          "output_type": "execute_result",
          "data": {
            "text/plain": [
              "<matplotlib.image.AxesImage at 0x7fcf738e6b10>"
            ]
          },
          "metadata": {},
          "execution_count": 5
        },
        {
          "output_type": "display_data",
          "data": {
            "text/plain": [
              "<Figure size 432x288 with 1 Axes>"
            ],
            "image/png": "[encoded data removed]"
          },
          "metadata": {
            "needs_background": "light"
          }
        }
      ],
      "source": [
        "#### in this cell, show us the image in grayscale ####\n",
        "#----start\n",
        "plt.imshow(image, cmap='gray')\n",
        "#----end"
      ]
    },
    {
      "cell_type": "code",
      "execution_count": 6,
      "metadata": {
        "id": "Fh52wqhrg3iY"
      },
      "outputs": [],
      "source": [
        "#### Define JPEG compression Function #####\n",
        "def jpeg_compression(image,Z):\n",
        "  #----start\n",
        "  subtracted_image = image - (2**(image.shape[0]-1))\n",
        "  dct_tranformed = scipy.fftpack.dct(scipy.fftpack.dct(subtracted_image,norm='ortho',axis=0),norm='ortho',axis=1)\n",
        "  divide_with_z = dct_tranformed/Z\n",
        "  rounded = (np.rint(divide_with_z)).astype(int)\n",
        "  #----end\n",
        "  return rounded"
      ]
    },
    {
      "cell_type": "code",
      "execution_count": 7,
      "metadata": {
        "id": "k_vkxZFlg3iY",
        "colab": {
          "base_uri": "https://localhost:8080/"
        },
        "outputId": "21f6812d-172c-41a5-f8c8-b02fb9a90465"
      },
      "outputs": [
        {
          "output_type": "stream",
          "name": "stdout",
          "text": [
            "[[-27 -17  -4  -1   0   0   0   0]\n",
            " [-15  11   0   0   0   0   0   0]\n",
            " [ -3   0   2   0   0   0   0   0]\n",
            " [ -1   0   0   1   0   0   0   0]\n",
            " [ -1   0   0   0   0   0   0   0]\n",
            " [  0   0   0   0   0   0   0   0]\n",
            " [  0   0   0   0   0   0   0   0]\n",
            " [  0   0   0   0   0   0   0   0]]\n"
          ]
        }
      ],
      "source": [
        "jpeg_matrix = jpeg_compression(image,Z)\n",
        "print(jpeg_matrix)"
      ]
    },
    {
      "cell_type": "code",
      "execution_count": 8,
      "metadata": {
        "id": "2ExM17Ybg3iZ"
      },
      "outputs": [],
      "source": [
        "\"\"\"change the jpeg_matrix to a vector, like \n",
        "a = [-27, -17, -15, -3, 11, -4, -1, 0, 0, -1, -1, 0, 2, 0, 0, 0, 0, 0, 0, 0, 0, 0, 0, 0, 1, 'EOB']\"\"\"\n",
        "####define a mat_2_vec function####\n",
        "def mat_2_vec(jpeg_matrix,zigzag):\n",
        "  #----start\n",
        "  vec=[]\n",
        "  zigzag_a = np.array(zigzag)\n",
        "  for i in range(zigzag_a.size):\n",
        "    index = np.unravel_index(np.argmax(1*(zigzag_a==i),axis=None),zigzag_a.shape)\n",
        "    vec.append(jpeg_matrix[index])\n",
        "  \n",
        "  for j in reversed(range(len(vec))):\n",
        "    if vec[j] == 0:\n",
        "      vec = vec[:j]\n",
        "    elif vec[j] != 0:\n",
        "      break\n",
        "  vec.append(\"EOB\")\n",
        "  #----end\n",
        "  return vec"
      ]
    },
    {
      "cell_type": "code",
      "execution_count": 9,
      "metadata": {
        "id": "hjhHgsNrg3iZ"
      },
      "outputs": [],
      "source": [
        "vec = mat_2_vec(jpeg_matrix,zigzag)"
      ]
    },
    {
      "cell_type": "markdown",
      "metadata": {
        "id": "z9nR89fwg3iZ"
      },
      "source": [
        "Part B"
      ]
    },
    {
      "cell_type": "code",
      "execution_count": 10,
      "metadata": {
        "colab": {
          "base_uri": "https://localhost:8080/"
        },
        "id": "9UH_5qs8g3iZ",
        "outputId": "68d9404c-cb0e-4a43-a94d-c311dd7c3d32"
      },
      "outputs": [
        {
          "output_type": "stream",
          "name": "stdout",
          "text": [
            "[-27, -17, -15, -3, 11, -4, -1, 0, 0, -1, -1, 0, 2, 0, 0, 0, 0, 0, 0, 0, 0, 0, 0, 0, 1, 'EOB']\n"
          ]
        }
      ],
      "source": [
        "#### in this cell,show the vector we got in part A ###\n",
        "#start\n",
        "print(vec)\n",
        "#End"
      ]
    },
    {
      "cell_type": "code",
      "execution_count": 11,
      "metadata": {
        "id": "iqeDjLtKg3ia"
      },
      "outputs": [],
      "source": [
        "####define a vec_2_mat function####\n",
        "def vector_to_matrix(vector1):\n",
        "  #----start\n",
        "  mat = np.zeros_like(image)\n",
        "  zigzag_a = np.array(zigzag)\n",
        "  for i in range(len(vector1)-1):\n",
        "    index = np.unravel_index(np.argmax(1*(zigzag_a==i),axis=None),zigzag_a.shape)\n",
        "    mat[index] = vector1[i]\n",
        "  #----end\n",
        "  return mat\n"
      ]
    },
    {
      "cell_type": "code",
      "execution_count": 12,
      "metadata": {
        "id": "3gJmXq7Hg3ia"
      },
      "outputs": [],
      "source": [
        "#### Define JPEG Decompression Function #####\n",
        "def jpeg_decompress(T_hat, Z):\n",
        "  #----start\n",
        "  # Please set norm='ortho' in Discrete Cosine Transform Function in fftpack\n",
        "  # you can use scipy.fftpack for dct and idct\n",
        "  T_dot = T_hat * Z\n",
        "  idct_tranformed = scipy.fftpack.idct(scipy.fftpack.idct(T_dot,norm='ortho',axis=0),norm='ortho',axis=1)\n",
        "  T = idct_tranformed + (2**(image.shape[0]-1))\n",
        "  #----end\n",
        " \n",
        "  return T"
      ]
    },
    {
      "cell_type": "code",
      "execution_count": 13,
      "metadata": {
        "id": "0bVAZcPyg3ia",
        "colab": {
          "base_uri": "https://localhost:8080/",
          "height": 569
        },
        "outputId": "f72166c4-5d46-48d6-c4a7-99f439363edc"
      },
      "outputs": [
        {
          "output_type": "stream",
          "name": "stdout",
          "text": [
            "[[ 33.90241005  30.54775832  27.97959216  29.41620856  33.24129806\n",
            "   35.02424581  32.94586615  29.93754577]\n",
            " [ 34.69138758  42.05585559  50.00845073  52.39975944  49.87770263\n",
            "   47.92905119  49.74401583  52.76852369]\n",
            " [ 31.77462629  49.6598556   69.28626278  75.85118649  70.55222279\n",
            "   66.14976936  70.26596303  77.1838152 ]\n",
            " [ 28.6068495   47.44677111  71.24679329  85.75392986  88.52192546\n",
            "   87.37539338  89.03778505  92.22403802]\n",
            " [ 32.34196256  44.83473787  65.85785317  88.43194903 105.17498572\n",
            "  112.09541293 110.98089772 107.82000439]\n",
            " [ 38.13783369  46.89900981  65.4683231   91.29834031 116.1083363\n",
            "  130.97097637 134.03007616 131.82387514]\n",
            " [ 35.16966279  47.82418321  68.69472555  92.07094076 114.10402987\n",
            "  133.14028493 147.87319677 156.18775704]\n",
            " [ 26.92228824  45.6096369   70.37352354  90.01813956 105.70408236\n",
            "  125.69502973 150.94870287 169.98238288]]\n"
          ]
        },
        {
          "output_type": "execute_result",
          "data": {
            "text/plain": [
              "<matplotlib.image.AxesImage at 0x7fcf5a524550>"
            ]
          },
          "metadata": {},
          "execution_count": 13
        },
        {
          "output_type": "display_data",
          "data": {
            "text/plain": [
              "<Figure size 432x288 with 1 Axes>"
            ],
            "image/png": "[encoded data removed]"
          },
          "metadata": {
            "needs_background": "light"
          }
        }
      ],
      "source": [
        "####  Decompress Vector the vector and show the image  ####\n",
        "T_hat = vector_to_matrix(vec)\n",
        "img = jpeg_decompress(T_hat,Z)\n",
        "print(img)\n",
        "plt.imshow(img, cmap='gray')\n"
      ]
    },
    {
      "cell_type": "markdown",
      "metadata": {
        "id": "PwoZp6eHg3ia"
      },
      "source": [
        "Part C"
      ]
    },
    {
      "cell_type": "code",
      "execution_count": 14,
      "metadata": {
        "id": "cbbtJ0G5g3ib",
        "colab": {
          "base_uri": "https://localhost:8080/"
        },
        "outputId": "4ceaae79-90df-4877-ff79-5be906f73bd4"
      },
      "outputs": [
        {
          "output_type": "stream",
          "name": "stdout",
          "text": [
            "mse=9.054369180945465e-18\n",
            "psnr=213.54178817671354\n",
            "ssim=1.0000000000000007\n"
          ]
        }
      ],
      "source": [
        "''' in this cell,caculate 3 following metrics using our original image(first cell of part A) and\n",
        " our final image in part B(last cell of part B)'''\n",
        "#----start\n",
        "mse = skimage.metrics.mean_squared_error(img,image)\n",
        "psnr = skimage.metrics.peak_signal_noise_ratio(image,img,data_range=(np.max(image)-np.min(image)))\n",
        "ssim = skimage.metrics.structural_similarity(img,image)\n",
        "\n",
        "print(\"mse={}\".format(mse))\n",
        "print(\"psnr={}\".format(psnr))\n",
        "print(\"ssim={}\".format(ssim))\n",
        "\n",
        "####print them all####\n",
        "\n",
        "#----end"
      ]
    }
  ],
  "metadata": {
    "colab": {
      "collapsed_sections": [],
      "provenance": []
    },
    "kernelspec": {
      "display_name": "Python 3.9.7 64-bit (system)",
      "language": "python",
      "name": "python3"
    },
    "language_info": {
      "codemirror_mode": {
        "name": "ipython",
        "version": 3
      },
      "file_extension": ".py",
      "mimetype": "text/x-python",
      "name": "python",
      "nbconvert_exporter": "python",
      "pygments_lexer": "ipython3",
      "version": "3.9.7"
    },
    "orig_nbformat": 4,
    "vscode": {
      "interpreter": {
        "hash": "511be68a78ff8fee53b9c9a11f00516cad3a2400f90d8d8686e4031404823731"
      }
    }
  },
  "nbformat": 4,
  "nbformat_minor": 0
}